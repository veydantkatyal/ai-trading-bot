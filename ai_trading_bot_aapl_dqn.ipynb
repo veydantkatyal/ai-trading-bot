{
  "nbformat": 4,
  "nbformat_minor": 0,
  "metadata": {
    "colab": {
      "provenance": [],
      "authorship_tag": "ABX9TyOTH5q3Yzy3p1udSKa38VOZ",
      "include_colab_link": true
    },
    "kernelspec": {
      "name": "python3",
      "display_name": "Python 3"
    },
    "language_info": {
      "name": "python"
    }
  },
  "cells": [
    {
      "cell_type": "markdown",
      "metadata": {
        "id": "view-in-github",
        "colab_type": "text"
      },
      "source": [
        "<a href=\"https://colab.research.google.com/github/veydantkatyal/ai-trading-bot/blob/main/ai_trading_bot_aapl_dqn.ipynb\" target=\"_parent\"><img src=\"https://colab.research.google.com/assets/colab-badge.svg\" alt=\"Open In Colab\"/></a>"
      ]
    },
    {
      "cell_type": "markdown",
      "source": [
        "**Import libraries and collect Apple’s stock market data from Yahoo Finance**"
      ],
      "metadata": {
        "id": "lOYOUApqmtfz"
      }
    },
    {
      "cell_type": "code",
      "execution_count": 1,
      "metadata": {
        "colab": {
          "base_uri": "https://localhost:8080/"
        },
        "id": "Ntr3VnStmA8Y",
        "outputId": "cd37fb4e-0b5e-40d8-ff47-cdcad9536f4f"
      },
      "outputs": [
        {
          "output_type": "stream",
          "name": "stdout",
          "text": [
            "YF.download() has changed argument auto_adjust default to True\n"
          ]
        },
        {
          "output_type": "stream",
          "name": "stderr",
          "text": [
            "\r[*********************100%***********************]  1 of 1 completed\n"
          ]
        }
      ],
      "source": [
        "import yfinance as yf\n",
        "import pandas as pd\n",
        "import numpy as np\n",
        "import torch\n",
        "import torch.nn as nn\n",
        "import torch.optim as optim\n",
        "import random\n",
        "from collections import deque\n",
        "\n",
        "# define stock symbol and time period\n",
        "symbol = \"AAPL\"\n",
        "start_date = \"2020-01-01\"\n",
        "end_date = \"2025-02-14\"\n",
        "\n",
        "# download historical data\n",
        "data = yf.download(symbol, start=start_date, end=end_date)"
      ]
    },
    {
      "cell_type": "markdown",
      "source": [
        "**calculate technical indicators that help the AI agent make better trading decisions**"
      ],
      "metadata": {
        "id": "lPeGlrC7nCoL"
      }
    },
    {
      "cell_type": "code",
      "source": [
        "# feature engineering\n",
        "data['SMA_5'] = data['Close'].rolling(window=5).mean()\n",
        "data['SMA_20'] = data['Close'].rolling(window=20).mean()\n",
        "data['Returns'] = data['Close'].pct_change()"
      ],
      "metadata": {
        "id": "1f7MVa1fmKla"
      },
      "execution_count": 2,
      "outputs": []
    },
    {
      "cell_type": "markdown",
      "source": [
        "**drop missing values and reset the index**"
      ],
      "metadata": {
        "id": "QVTeCmQFnGM2"
      }
    },
    {
      "cell_type": "code",
      "source": [
        "# drop NaN values and reset index\n",
        "data.dropna(inplace=True)\n",
        "data.reset_index(drop=True, inplace=True)"
      ],
      "metadata": {
        "id": "QOBIJg-CmKii"
      },
      "execution_count": 3,
      "outputs": []
    },
    {
      "cell_type": "markdown",
      "source": [
        "**we will define the action space. The AI agent has three possible actions:**\n",
        "* HOLD: Do nothing.\n",
        "* BUY: Purchase stocks.\n",
        "* SELL: Sell held stocks."
      ],
      "metadata": {
        "id": "vfE0fnjMnLcO"
      }
    },
    {
      "cell_type": "code",
      "source": [
        "# define action space\n",
        "ACTIONS = {0: \"HOLD\", 1: \"BUY\", 2: \"SELL\"}"
      ],
      "metadata": {
        "id": "BkCeeZrWmKfq"
      },
      "execution_count": 4,
      "outputs": []
    },
    {
      "cell_type": "markdown",
      "source": [
        "**extract the State from the data**"
      ],
      "metadata": {
        "id": "-ByG4P8Pngui"
      }
    },
    {
      "cell_type": "code",
      "source": [
        "# get state function\n",
        "def get_state(data, index):\n",
        "    return np.array([\n",
        "        float(data.loc[index, 'Close']),\n",
        "        float(data.loc[index, 'SMA_5']),\n",
        "        float(data.loc[index, 'SMA_20']),\n",
        "        float(data.loc[index, 'Returns'])\n",
        "    ])"
      ],
      "metadata": {
        "id": "aXs88mWmmKBS"
      },
      "execution_count": 5,
      "outputs": []
    },
    {
      "cell_type": "markdown",
      "source": [
        "This function extracts the state representation from the dataset at a given time index. The state is an array containing:\n",
        "\n",
        "* Closing price\n",
        "* 5-day SMA\n",
        "* 20-day SMA\n",
        "* Daily return percentage\n",
        "\n",
        "This numerical representation of the stock market is fed into the AI model to make trading decisions."
      ],
      "metadata": {
        "id": "GCVxXRDKnpfu"
      }
    },
    {
      "cell_type": "markdown",
      "source": [
        "# **Building The Trading Environment for our AI Agent**"
      ],
      "metadata": {
        "id": "iEC7zdBSnxi1"
      }
    },
    {
      "cell_type": "markdown",
      "source": [
        "**define a trading environment to interact with the Deep Q-Network (DQN) AI agent, which will allow it to learn how to trade stocks profitably**"
      ],
      "metadata": {
        "id": "kHwH25cHnymH"
      }
    },
    {
      "cell_type": "code",
      "source": [
        "# trading environment\n",
        "class TradingEnvironment:\n",
        "    def __init__(self, data):\n",
        "        self.data = data\n",
        "        self.initial_balance = 10000\n",
        "        self.balance = self.initial_balance\n",
        "        self.holdings = 0\n",
        "        self.index = 0\n",
        "\n",
        "    def reset(self):\n",
        "        self.balance = self.initial_balance\n",
        "        self.holdings = 0\n",
        "        self.index = 0\n",
        "        return get_state(self.data, self.index)\n",
        "\n",
        "    def step(self, action):\n",
        "        price = float(self.data.loc[self.index, 'Close'])\n",
        "        reward = 0\n",
        "\n",
        "        if action == 1 and self.balance >= price:  # BUY\n",
        "            self.holdings = self.balance // price\n",
        "            self.balance -= self.holdings * price\n",
        "        elif action == 2 and self.holdings > 0:  # SELL\n",
        "            self.balance += self.holdings * price\n",
        "            self.holdings = 0\n",
        "\n",
        "        self.index += 1\n",
        "        done = self.index >= len(self.data) - 1\n",
        "\n",
        "        if done:\n",
        "            reward = self.balance - self.initial_balance\n",
        "\n",
        "        next_state = get_state(self.data, self.index) if not done else None\n",
        "        return next_state, reward, done, {}"
      ],
      "metadata": {
        "id": "EAiEIKLWmXLH"
      },
      "execution_count": 6,
      "outputs": []
    },
    {
      "cell_type": "markdown",
      "source": [
        "The environment is implemented as a class that simulates the stock market. It tracks the agent’s balance, holdings, and current market index, and it provides new states and rewards in response to the agent’s actions."
      ],
      "metadata": {
        "id": "q0mMbCCXn42X"
      }
    },
    {
      "cell_type": "markdown",
      "source": [
        "**DEEP Q-NETWORK**"
      ],
      "metadata": {
        "id": "p-x3NJuen8Vy"
      }
    },
    {
      "cell_type": "markdown",
      "source": [
        "DQN is a neural network that approximates the Q-values for each state-action pair. We will now define the neural network architecture for our Deep Q-Network. It will be responsible for predicting the best trading actions based on the stock market state:"
      ],
      "metadata": {
        "id": "LmCzvwACoAXZ"
      }
    },
    {
      "cell_type": "code",
      "source": [
        "# deep q-network\n",
        "class DQN(nn.Module):\n",
        "    def __init__(self, state_size, action_size):\n",
        "        super(DQN, self).__init__()\n",
        "        self.fc1 = nn.Linear(state_size, 64)\n",
        "        self.fc2 = nn.Linear(64, 64)\n",
        "        self.fc3 = nn.Linear(64, action_size)\n",
        "\n",
        "    def forward(self, x):\n",
        "        x = torch.relu(self.fc1(x))\n",
        "        x = torch.relu(self.fc2(x))\n",
        "        return self.fc3(x)"
      ],
      "metadata": {
        "id": "UaX_AO4jmXIh"
      },
      "execution_count": 7,
      "outputs": []
    },
    {
      "cell_type": "markdown",
      "source": [
        "The model features a three-layer neural network to predict trading actions, leveraging ReLU activation to enhance learning efficiency.\n",
        "\n",
        "It outputs Q-values, which the agent utilizes to determine the best action: buy, sell, or hold, based on market conditions."
      ],
      "metadata": {
        "id": "RNDlrcLJogwy"
      }
    },
    {
      "cell_type": "markdown",
      "source": [
        "**The DQN Agent**"
      ],
      "metadata": {
        "id": "zSJd0SMYodqp"
      }
    },
    {
      "cell_type": "code",
      "source": [
        "# DQN agent\n",
        "class DQNAgent:\n",
        "    def __init__(self, state_size, action_size):\n",
        "        self.state_size = state_size\n",
        "        self.action_size = action_size\n",
        "        self.memory = deque(maxlen=2000)\n",
        "        self.gamma = 0.95  # Discount factor\n",
        "        self.epsilon = 1.0  # Exploration rate\n",
        "        self.epsilon_min = 0.01\n",
        "        self.epsilon_decay = 0.995\n",
        "        self.learning_rate = 0.001\n",
        "        self.model = DQN(state_size, action_size)\n",
        "        self.optimizer = optim.Adam(self.model.parameters(), lr=self.learning_rate)\n",
        "        self.criterion = nn.MSELoss()\n",
        "\n",
        "    def remember(self, state, action, reward, next_state, done):\n",
        "        self.memory.append((state, action, reward, next_state, done))\n",
        "\n",
        "    def act(self, state):\n",
        "        if random.uniform(0, 1) < self.epsilon:\n",
        "            return random.choice(list(ACTIONS.keys()))\n",
        "        state = torch.FloatTensor(state).unsqueeze(0)\n",
        "        with torch.no_grad():\n",
        "            q_values = self.model(state)\n",
        "        return torch.argmax(q_values).item()\n",
        "\n",
        "    def replay(self, batch_size):\n",
        "        if len(self.memory) < batch_size:\n",
        "            return\n",
        "        minibatch = random.sample(self.memory, batch_size)\n",
        "\n",
        "        for state, action, reward, next_state, done in minibatch:\n",
        "            target = reward\n",
        "            if not done:\n",
        "                next_state_tensor = torch.FloatTensor(next_state).unsqueeze(0)\n",
        "                target += self.gamma * torch.max(self.model(next_state_tensor)).item()\n",
        "\n",
        "            state_tensor = torch.FloatTensor(state).unsqueeze(0)\n",
        "            target_tensor = self.model(state_tensor).clone().detach()\n",
        "            target_tensor[0][action] = target\n",
        "\n",
        "            self.optimizer.zero_grad()\n",
        "            output = self.model(state_tensor)\n",
        "            loss = self.criterion(output, target_tensor)\n",
        "            loss.backward()\n",
        "            self.optimizer.step()\n",
        "\n",
        "        if self.epsilon > self.epsilon_min:\n",
        "            self.epsilon *= self.epsilon_decay"
      ],
      "metadata": {
        "id": "4BEdQ34ymXFi"
      },
      "execution_count": 8,
      "outputs": []
    },
    {
      "cell_type": "markdown",
      "source": [
        "So, we developed a Deep Q-Learning Agent to interact with the stock market environment to enhance its decision-making through Experience Replay, which stores and reuses past experiences for training. The agent effectively balances Exploration vs. Exploitation, taking random actions initially and making smarter decisions as learning progresses.\n",
        "\n",
        "Training is performed using batches of past experiences to refine the neural network’s performance. Additionally, a discount factor (gamma) is applied to weigh immediate and future rewards, to ensure long-term profitability."
      ],
      "metadata": {
        "id": "0lrITIO9osqZ"
      }
    },
    {
      "cell_type": "markdown",
      "source": [
        "**Training the AI Agent**"
      ],
      "metadata": {
        "id": "BRMuv-nqoikR"
      }
    },
    {
      "cell_type": "code",
      "source": [
        "# train the agent\n",
        "env = TradingEnvironment(data)\n",
        "agent = DQNAgent(state_size=4, action_size=3)\n",
        "batch_size = 32\n",
        "episodes = 500\n",
        "total_rewards = []\n",
        "\n",
        "for episode in range(episodes):\n",
        "    state = env.reset()\n",
        "    done = False\n",
        "    total_reward = 0\n",
        "\n",
        "    while not done:\n",
        "        action = agent.act(state)\n",
        "        next_state, reward, done, _ = env.step(action)\n",
        "        agent.remember(state, action, reward, next_state, done)\n",
        "        state = next_state\n",
        "        total_reward += reward\n",
        "\n",
        "    agent.replay(batch_size)\n",
        "    total_rewards.append(total_reward)\n",
        "    print(f\"Episode {episode+1}/{episodes}, Total Reward: {total_reward}\")\n",
        "\n",
        "print(\"Training Complete!\")"
      ],
      "metadata": {
        "colab": {
          "base_uri": "https://localhost:8080/"
        },
        "id": "XUO3aaBTmJ-9",
        "outputId": "fb64fa38-0ab5-46fc-c42d-3ce69621e1b2"
      },
      "execution_count": 9,
      "outputs": [
        {
          "output_type": "stream",
          "name": "stderr",
          "text": [
            "<ipython-input-5-3915787d8dfc>:4: FutureWarning: Calling float on a single element Series is deprecated and will raise a TypeError in the future. Use float(ser.iloc[0]) instead\n",
            "  float(data.loc[index, 'Close']),\n",
            "<ipython-input-5-3915787d8dfc>:5: FutureWarning: Calling float on a single element Series is deprecated and will raise a TypeError in the future. Use float(ser.iloc[0]) instead\n",
            "  float(data.loc[index, 'SMA_5']),\n",
            "<ipython-input-5-3915787d8dfc>:6: FutureWarning: Calling float on a single element Series is deprecated and will raise a TypeError in the future. Use float(ser.iloc[0]) instead\n",
            "  float(data.loc[index, 'SMA_20']),\n",
            "<ipython-input-5-3915787d8dfc>:7: FutureWarning: Calling float on a single element Series is deprecated and will raise a TypeError in the future. Use float(ser.iloc[0]) instead\n",
            "  float(data.loc[index, 'Returns'])\n",
            "<ipython-input-6-71f231bc395a>:17: FutureWarning: Calling float on a single element Series is deprecated and will raise a TypeError in the future. Use float(ser.iloc[0]) instead\n",
            "  price = float(self.data.loc[self.index, 'Close'])\n"
          ]
        },
        {
          "output_type": "stream",
          "name": "stdout",
          "text": [
            "Episode 1/500, Total Reward: -9858.265254974365\n",
            "Episode 2/500, Total Reward: -9821.932460784912\n",
            "Episode 3/500, Total Reward: -9955.327735900879\n",
            "Episode 4/500, Total Reward: 5746.456840515137\n",
            "Episode 5/500, Total Reward: -9924.661777496338\n",
            "Episode 6/500, Total Reward: -9911.213138580322\n",
            "Episode 7/500, Total Reward: -9831.004726409912\n",
            "Episode 8/500, Total Reward: 7327.460224151611\n",
            "Episode 9/500, Total Reward: -9779.414028167725\n",
            "Episode 10/500, Total Reward: -9978.320148468018\n",
            "Episode 11/500, Total Reward: -9909.145038604736\n",
            "Episode 12/500, Total Reward: -9769.044498443604\n",
            "Episode 13/500, Total Reward: -9874.609970092773\n",
            "Episode 14/500, Total Reward: -9810.00127029419\n",
            "Episode 15/500, Total Reward: -9803.15043258667\n",
            "Episode 16/500, Total Reward: 3994.7838439941406\n",
            "Episode 17/500, Total Reward: -9766.625709533691\n",
            "Episode 18/500, Total Reward: 5270.723915100098\n",
            "Episode 19/500, Total Reward: -9860.390296936035\n",
            "Episode 20/500, Total Reward: -9949.108783721924\n",
            "Episode 21/500, Total Reward: -9882.63803100586\n",
            "Episode 22/500, Total Reward: -9757.581935882568\n",
            "Episode 23/500, Total Reward: -9819.86763381958\n",
            "Episode 24/500, Total Reward: -9828.695171356201\n",
            "Episode 25/500, Total Reward: 6721.428993225098\n",
            "Episode 26/500, Total Reward: -9854.758514404297\n",
            "Episode 27/500, Total Reward: -9876.302425384521\n",
            "Episode 28/500, Total Reward: 26246.527378082275\n",
            "Episode 29/500, Total Reward: -9834.890438079834\n",
            "Episode 30/500, Total Reward: -9809.793888092041\n",
            "Episode 31/500, Total Reward: -9789.538669586182\n",
            "Episode 32/500, Total Reward: -9792.694618225098\n",
            "Episode 33/500, Total Reward: -9892.786087036133\n",
            "Episode 34/500, Total Reward: -9847.695251464844\n",
            "Episode 35/500, Total Reward: -9891.038414001465\n",
            "Episode 36/500, Total Reward: -9883.958236694336\n",
            "Episode 37/500, Total Reward: -9758.481727600098\n",
            "Episode 38/500, Total Reward: 17420.331741333008\n",
            "Episode 39/500, Total Reward: 11676.369537353516\n",
            "Episode 40/500, Total Reward: -9787.019203186035\n",
            "Episode 41/500, Total Reward: -9853.693634033203\n",
            "Episode 42/500, Total Reward: -9850.012981414795\n",
            "Episode 43/500, Total Reward: -9914.045948028564\n",
            "Episode 44/500, Total Reward: -9893.08325958252\n",
            "Episode 45/500, Total Reward: -9941.572940826416\n",
            "Episode 46/500, Total Reward: -9886.283531188965\n",
            "Episode 47/500, Total Reward: -9835.496700286865\n",
            "Episode 48/500, Total Reward: 6089.722358703613\n",
            "Episode 49/500, Total Reward: -9948.168655395508\n",
            "Episode 50/500, Total Reward: -9864.561058044434\n",
            "Episode 51/500, Total Reward: -9772.433227539062\n",
            "Episode 52/500, Total Reward: -9908.626056671143\n",
            "Episode 53/500, Total Reward: -9860.090015411377\n",
            "Episode 54/500, Total Reward: -9944.072044372559\n",
            "Episode 55/500, Total Reward: -9915.596332550049\n",
            "Episode 56/500, Total Reward: -9891.925148010254\n",
            "Episode 57/500, Total Reward: -9849.199440002441\n",
            "Episode 58/500, Total Reward: -9939.7522315979\n",
            "Episode 59/500, Total Reward: -9898.783214569092\n",
            "Episode 60/500, Total Reward: -9999.708404541016\n",
            "Episode 61/500, Total Reward: -9842.1650390625\n",
            "Episode 62/500, Total Reward: -9800.521743774414\n",
            "Episode 63/500, Total Reward: -9831.608421325684\n",
            "Episode 64/500, Total Reward: -9853.731575012207\n",
            "Episode 65/500, Total Reward: -9852.474426269531\n",
            "Episode 66/500, Total Reward: -9917.087413787842\n",
            "Episode 67/500, Total Reward: 20686.319511413574\n",
            "Episode 68/500, Total Reward: -9876.292495727539\n",
            "Episode 69/500, Total Reward: 6624.474609375\n",
            "Episode 70/500, Total Reward: -9928.13194656372\n",
            "Episode 71/500, Total Reward: -9801.662139892578\n",
            "Episode 72/500, Total Reward: -9962.425426483154\n",
            "Episode 73/500, Total Reward: -9884.908744812012\n",
            "Episode 74/500, Total Reward: -128.2427864074707\n",
            "Episode 75/500, Total Reward: 2173.816135406494\n",
            "Episode 76/500, Total Reward: -9778.499629974365\n",
            "Episode 77/500, Total Reward: -9936.35495376587\n",
            "Episode 78/500, Total Reward: -9865.150985717773\n",
            "Episode 79/500, Total Reward: -9925.416130065918\n",
            "Episode 80/500, Total Reward: -9834.789222717285\n",
            "Episode 81/500, Total Reward: -9884.357944488525\n",
            "Episode 82/500, Total Reward: 4827.277587890625\n",
            "Episode 83/500, Total Reward: 4032.508632659912\n",
            "Episode 84/500, Total Reward: -9804.550987243652\n",
            "Episode 85/500, Total Reward: -9911.51929473877\n",
            "Episode 86/500, Total Reward: -9836.75951385498\n",
            "Episode 87/500, Total Reward: -9790.329193115234\n",
            "Episode 88/500, Total Reward: -9790.899349212646\n",
            "Episode 89/500, Total Reward: -9881.46520614624\n",
            "Episode 90/500, Total Reward: -9825.989688873291\n",
            "Episode 91/500, Total Reward: -9893.09623336792\n",
            "Episode 92/500, Total Reward: -9852.711624145508\n",
            "Episode 93/500, Total Reward: 4032.8168601989746\n",
            "Episode 94/500, Total Reward: 27817.76336288452\n",
            "Episode 95/500, Total Reward: -9830.540531158447\n",
            "Episode 96/500, Total Reward: -9836.584129333496\n",
            "Episode 97/500, Total Reward: -9869.79386138916\n",
            "Episode 98/500, Total Reward: -9968.89474105835\n",
            "Episode 99/500, Total Reward: -9981.963466644287\n",
            "Episode 100/500, Total Reward: -9940.567920684814\n",
            "Episode 101/500, Total Reward: -9939.204948425293\n",
            "Episode 102/500, Total Reward: -9840.298599243164\n",
            "Episode 103/500, Total Reward: -9775.57186126709\n",
            "Episode 104/500, Total Reward: -9929.87973022461\n",
            "Episode 105/500, Total Reward: -9942.971778869629\n",
            "Episode 106/500, Total Reward: 6017.554740905762\n",
            "Episode 107/500, Total Reward: -9826.324794769287\n",
            "Episode 108/500, Total Reward: -9817.127346038818\n",
            "Episode 109/500, Total Reward: -9853.03837966919\n",
            "Episode 110/500, Total Reward: -9924.177234649658\n",
            "Episode 111/500, Total Reward: -9874.072666168213\n",
            "Episode 112/500, Total Reward: -9880.774978637695\n",
            "Episode 113/500, Total Reward: 6484.494697570801\n",
            "Episode 114/500, Total Reward: -9934.20559310913\n",
            "Episode 115/500, Total Reward: 5168.0039710998535\n",
            "Episode 116/500, Total Reward: 5842.17813873291\n",
            "Episode 117/500, Total Reward: -9933.505702972412\n",
            "Episode 118/500, Total Reward: -9842.05810546875\n",
            "Episode 119/500, Total Reward: -9765.315406799316\n",
            "Episode 120/500, Total Reward: -9976.268077850342\n",
            "Episode 121/500, Total Reward: -870.6127319335938\n",
            "Episode 122/500, Total Reward: -9997.976905822754\n",
            "Episode 123/500, Total Reward: -9924.171253204346\n",
            "Episode 124/500, Total Reward: -9944.134326934814\n",
            "Episode 125/500, Total Reward: -9920.678531646729\n",
            "Episode 126/500, Total Reward: -9861.310550689697\n",
            "Episode 127/500, Total Reward: -9761.08568572998\n",
            "Episode 128/500, Total Reward: -9941.43285369873\n",
            "Episode 129/500, Total Reward: -9826.61693572998\n",
            "Episode 130/500, Total Reward: -9848.210277557373\n",
            "Episode 131/500, Total Reward: -9862.4369430542\n",
            "Episode 132/500, Total Reward: -9825.876125335693\n",
            "Episode 133/500, Total Reward: -9869.625091552734\n",
            "Episode 134/500, Total Reward: -9879.788612365723\n",
            "Episode 135/500, Total Reward: -9870.45597076416\n",
            "Episode 136/500, Total Reward: -9879.478050231934\n",
            "Episode 137/500, Total Reward: -9845.15336227417\n",
            "Episode 138/500, Total Reward: 866.6064414978027\n",
            "Episode 139/500, Total Reward: -9817.545345306396\n",
            "Episode 140/500, Total Reward: -9949.841590881348\n",
            "Episode 141/500, Total Reward: -9914.858470916748\n",
            "Episode 142/500, Total Reward: -9933.051704406738\n",
            "Episode 143/500, Total Reward: -9977.661197662354\n",
            "Episode 144/500, Total Reward: 7236.776252746582\n",
            "Episode 145/500, Total Reward: -9836.577098846436\n",
            "Episode 146/500, Total Reward: -9932.73999786377\n",
            "Episode 147/500, Total Reward: -9876.081649780273\n",
            "Episode 148/500, Total Reward: 15261.12816619873\n",
            "Episode 149/500, Total Reward: -9865.264221191406\n",
            "Episode 150/500, Total Reward: 317.2883110046387\n",
            "Episode 151/500, Total Reward: 1624.773006439209\n",
            "Episode 152/500, Total Reward: -9928.550067901611\n",
            "Episode 153/500, Total Reward: -9884.964790344238\n",
            "Episode 154/500, Total Reward: 1823.6465682983398\n",
            "Episode 155/500, Total Reward: 7652.15665435791\n",
            "Episode 156/500, Total Reward: -9930.346607208252\n",
            "Episode 157/500, Total Reward: -9884.820022583008\n",
            "Episode 158/500, Total Reward: -9838.309364318848\n",
            "Episode 159/500, Total Reward: -9921.569553375244\n",
            "Episode 160/500, Total Reward: 5091.886161804199\n",
            "Episode 161/500, Total Reward: -9802.184593200684\n",
            "Episode 162/500, Total Reward: -9939.36939239502\n",
            "Episode 163/500, Total Reward: -9938.936264038086\n",
            "Episode 164/500, Total Reward: 2086.196674346924\n",
            "Episode 165/500, Total Reward: -9849.62124633789\n",
            "Episode 166/500, Total Reward: -9934.228382110596\n",
            "Episode 167/500, Total Reward: 1795.4008560180664\n",
            "Episode 168/500, Total Reward: -9879.642501831055\n",
            "Episode 169/500, Total Reward: 4961.580551147461\n",
            "Episode 170/500, Total Reward: 3037.314743041992\n",
            "Episode 171/500, Total Reward: -9952.063415527344\n",
            "Episode 172/500, Total Reward: -9845.922409057617\n",
            "Episode 173/500, Total Reward: -9973.040283203125\n",
            "Episode 174/500, Total Reward: -9858.54235458374\n",
            "Episode 175/500, Total Reward: 3865.5614280700684\n",
            "Episode 176/500, Total Reward: -9916.289207458496\n",
            "Episode 177/500, Total Reward: -9837.983589172363\n",
            "Episode 178/500, Total Reward: -9806.903331756592\n",
            "Episode 179/500, Total Reward: -9993.470127105713\n",
            "Episode 180/500, Total Reward: 1285.6750717163086\n",
            "Episode 181/500, Total Reward: 669.2777786254883\n",
            "Episode 182/500, Total Reward: -9938.62954711914\n",
            "Episode 183/500, Total Reward: -9831.284450531006\n",
            "Episode 184/500, Total Reward: -9789.364318847656\n",
            "Episode 185/500, Total Reward: -9870.742156982422\n",
            "Episode 186/500, Total Reward: -9839.415340423584\n",
            "Episode 187/500, Total Reward: -9844.90693283081\n",
            "Episode 188/500, Total Reward: -9781.67887878418\n",
            "Episode 189/500, Total Reward: -9864.022731781006\n",
            "Episode 190/500, Total Reward: -9799.37964630127\n",
            "Episode 191/500, Total Reward: -9847.555839538574\n",
            "Episode 192/500, Total Reward: -9986.729476928711\n",
            "Episode 193/500, Total Reward: -9970.48821258545\n",
            "Episode 194/500, Total Reward: -9825.618049621582\n",
            "Episode 195/500, Total Reward: -9874.818908691406\n",
            "Episode 196/500, Total Reward: -9810.433120727539\n",
            "Episode 197/500, Total Reward: -9760.414794921875\n",
            "Episode 198/500, Total Reward: -9792.302234649658\n",
            "Episode 199/500, Total Reward: -9846.432289123535\n",
            "Episode 200/500, Total Reward: -9867.044860839844\n",
            "Episode 201/500, Total Reward: -9893.203678131104\n",
            "Episode 202/500, Total Reward: -9864.7463722229\n",
            "Episode 203/500, Total Reward: -9873.13729095459\n",
            "Episode 204/500, Total Reward: -9939.594646453857\n",
            "Episode 205/500, Total Reward: -1411.3390769958496\n",
            "Episode 206/500, Total Reward: -9935.497150421143\n",
            "Episode 207/500, Total Reward: -9796.94192123413\n",
            "Episode 208/500, Total Reward: -9842.071308135986\n",
            "Episode 209/500, Total Reward: -9936.880142211914\n",
            "Episode 210/500, Total Reward: -9868.07974243164\n",
            "Episode 211/500, Total Reward: -9929.043334960938\n",
            "Episode 212/500, Total Reward: -9941.360683441162\n",
            "Episode 213/500, Total Reward: -9882.574989318848\n",
            "Episode 214/500, Total Reward: -9877.631958007812\n",
            "Episode 215/500, Total Reward: -9843.286262512207\n",
            "Episode 216/500, Total Reward: -9845.166046142578\n",
            "Episode 217/500, Total Reward: -9820.522758483887\n",
            "Episode 218/500, Total Reward: 745.5860710144043\n",
            "Episode 219/500, Total Reward: -9784.20064163208\n",
            "Episode 220/500, Total Reward: -9784.70309829712\n",
            "Episode 221/500, Total Reward: -9810.345958709717\n",
            "Episode 222/500, Total Reward: -9937.77494430542\n",
            "Episode 223/500, Total Reward: -9866.335689544678\n",
            "Episode 224/500, Total Reward: -9850.446487426758\n",
            "Episode 225/500, Total Reward: -9834.624130249023\n",
            "Episode 226/500, Total Reward: -9925.790241241455\n",
            "Episode 227/500, Total Reward: -9861.27265548706\n",
            "Episode 228/500, Total Reward: -9865.932716369629\n",
            "Episode 229/500, Total Reward: -9779.891716003418\n",
            "Episode 230/500, Total Reward: -9851.757507324219\n",
            "Episode 231/500, Total Reward: 5032.0556640625\n",
            "Episode 232/500, Total Reward: -9859.970695495605\n",
            "Episode 233/500, Total Reward: -9866.14206314087\n",
            "Episode 234/500, Total Reward: -9813.468891143799\n",
            "Episode 235/500, Total Reward: -9783.067512512207\n",
            "Episode 236/500, Total Reward: -9938.438690185547\n",
            "Episode 237/500, Total Reward: -9948.880828857422\n",
            "Episode 238/500, Total Reward: -9991.513431549072\n",
            "Episode 239/500, Total Reward: -9930.546424865723\n",
            "Episode 240/500, Total Reward: -9891.612350463867\n",
            "Episode 241/500, Total Reward: -9937.650161743164\n",
            "Episode 242/500, Total Reward: -9932.408340454102\n",
            "Episode 243/500, Total Reward: 1097.7639045715332\n",
            "Episode 244/500, Total Reward: -9930.671627044678\n",
            "Episode 245/500, Total Reward: 3594.1575965881348\n",
            "Episode 246/500, Total Reward: -9807.892868041992\n",
            "Episode 247/500, Total Reward: -9876.88415145874\n",
            "Episode 248/500, Total Reward: -9865.429500579834\n",
            "Episode 249/500, Total Reward: 2583.4295501708984\n",
            "Episode 250/500, Total Reward: -9811.571029663086\n",
            "Episode 251/500, Total Reward: -9876.329383850098\n",
            "Episode 252/500, Total Reward: -9797.347583770752\n",
            "Episode 253/500, Total Reward: -9881.894870758057\n",
            "Episode 254/500, Total Reward: -9839.713394165039\n",
            "Episode 255/500, Total Reward: -9836.095291137695\n",
            "Episode 256/500, Total Reward: -9781.139087677002\n",
            "Episode 257/500, Total Reward: 8124.869724273682\n",
            "Episode 258/500, Total Reward: -9874.678421020508\n",
            "Episode 259/500, Total Reward: 5070.734817504883\n",
            "Episode 260/500, Total Reward: -9955.42476272583\n",
            "Episode 261/500, Total Reward: -9937.662734985352\n",
            "Episode 262/500, Total Reward: -9838.171875\n",
            "Episode 263/500, Total Reward: 2945.082347869873\n",
            "Episode 264/500, Total Reward: -9815.103088378906\n",
            "Episode 265/500, Total Reward: 2498.393356323242\n",
            "Episode 266/500, Total Reward: -9835.207328796387\n",
            "Episode 267/500, Total Reward: -9847.812110900879\n",
            "Episode 268/500, Total Reward: -9862.220222473145\n",
            "Episode 269/500, Total Reward: -9996.806499481201\n",
            "Episode 270/500, Total Reward: -9892.791271209717\n",
            "Episode 271/500, Total Reward: -9780.118545532227\n",
            "Episode 272/500, Total Reward: 1843.7761154174805\n",
            "Episode 273/500, Total Reward: -9900.766834259033\n",
            "Episode 274/500, Total Reward: -9937.196254730225\n",
            "Episode 275/500, Total Reward: -9960.722343444824\n",
            "Episode 276/500, Total Reward: -9912.040969848633\n",
            "Episode 277/500, Total Reward: -9811.991073608398\n",
            "Episode 278/500, Total Reward: -9941.369106292725\n",
            "Episode 279/500, Total Reward: -9858.429302215576\n",
            "Episode 280/500, Total Reward: -9894.745567321777\n",
            "Episode 281/500, Total Reward: -9824.355457305908\n",
            "Episode 282/500, Total Reward: -9989.968013763428\n",
            "Episode 283/500, Total Reward: -9986.951202392578\n",
            "Episode 284/500, Total Reward: -9821.439029693604\n",
            "Episode 285/500, Total Reward: -9996.628559112549\n",
            "Episode 286/500, Total Reward: -9978.514751434326\n",
            "Episode 287/500, Total Reward: -9852.25952911377\n",
            "Episode 288/500, Total Reward: -9802.723022460938\n",
            "Episode 289/500, Total Reward: -9869.895309448242\n",
            "Episode 290/500, Total Reward: -9874.559005737305\n",
            "Episode 291/500, Total Reward: -9847.335243225098\n",
            "Episode 292/500, Total Reward: -9864.370208740234\n",
            "Episode 293/500, Total Reward: 1310.7474517822266\n",
            "Episode 294/500, Total Reward: 805.8496246337891\n",
            "Episode 295/500, Total Reward: -9828.642612457275\n",
            "Episode 296/500, Total Reward: 4976.01416015625\n",
            "Episode 297/500, Total Reward: -9882.316417694092\n",
            "Episode 298/500, Total Reward: 2112.824146270752\n",
            "Episode 299/500, Total Reward: -9944.101287841797\n",
            "Episode 300/500, Total Reward: -9961.848022460938\n",
            "Episode 301/500, Total Reward: 9604.760314941406\n",
            "Episode 302/500, Total Reward: 1380.7442092895508\n",
            "Episode 303/500, Total Reward: 1299.7107582092285\n",
            "Episode 304/500, Total Reward: -9820.618194580078\n",
            "Episode 305/500, Total Reward: 1431.0334014892578\n",
            "Episode 306/500, Total Reward: -9885.808311462402\n",
            "Episode 307/500, Total Reward: -3207.606086730957\n",
            "Episode 308/500, Total Reward: -9931.0405960083\n",
            "Episode 309/500, Total Reward: -1073.5314331054688\n",
            "Episode 310/500, Total Reward: -9856.243560791016\n",
            "Episode 311/500, Total Reward: 2167.0607986450195\n",
            "Episode 312/500, Total Reward: -9932.595321655273\n",
            "Episode 313/500, Total Reward: -153.96810150146484\n",
            "Episode 314/500, Total Reward: -9981.5484085083\n",
            "Episode 315/500, Total Reward: -9936.753684997559\n",
            "Episode 316/500, Total Reward: -9873.39575958252\n",
            "Episode 317/500, Total Reward: -9940.528408050537\n",
            "Episode 318/500, Total Reward: -9904.429275512695\n",
            "Episode 319/500, Total Reward: -9977.585258483887\n",
            "Episode 320/500, Total Reward: -9839.594314575195\n",
            "Episode 321/500, Total Reward: -519.266658782959\n",
            "Episode 322/500, Total Reward: -9998.297119140625\n",
            "Episode 323/500, Total Reward: -9736.663562774658\n",
            "Episode 324/500, Total Reward: -9834.619636535645\n",
            "Episode 325/500, Total Reward: 2811.407157897949\n",
            "Episode 326/500, Total Reward: -800.2192039489746\n",
            "Episode 327/500, Total Reward: -9980.011070251465\n",
            "Episode 328/500, Total Reward: -939.5866241455078\n",
            "Episode 329/500, Total Reward: 6247.2515869140625\n",
            "Episode 330/500, Total Reward: -9872.64599609375\n",
            "Episode 331/500, Total Reward: -9980.505355834961\n",
            "Episode 332/500, Total Reward: 382.626708984375\n",
            "Episode 333/500, Total Reward: 10.019340515136719\n",
            "Episode 334/500, Total Reward: -9978.438316345215\n",
            "Episode 335/500, Total Reward: -9874.139541625977\n",
            "Episode 336/500, Total Reward: -9998.513511657715\n",
            "Episode 337/500, Total Reward: 3064.8163681030273\n",
            "Episode 338/500, Total Reward: -9893.021629333496\n",
            "Episode 339/500, Total Reward: -9855.350761413574\n",
            "Episode 340/500, Total Reward: 2155.7966918945312\n",
            "Episode 341/500, Total Reward: 4680.242828369141\n",
            "Episode 342/500, Total Reward: -9858.783477783203\n",
            "Episode 343/500, Total Reward: 2946.695152282715\n",
            "Episode 344/500, Total Reward: -9861.46203994751\n",
            "Episode 345/500, Total Reward: -9790.234420776367\n",
            "Episode 346/500, Total Reward: 631.536205291748\n",
            "Episode 347/500, Total Reward: -9762.102264404297\n",
            "Episode 348/500, Total Reward: -1377.1422424316406\n",
            "Episode 349/500, Total Reward: -9867.210594177246\n",
            "Episode 350/500, Total Reward: -9953.044128417969\n",
            "Episode 351/500, Total Reward: -9997.500213623047\n",
            "Episode 352/500, Total Reward: 3998.4317665100098\n",
            "Episode 353/500, Total Reward: 4131.509437561035\n",
            "Episode 354/500, Total Reward: -9867.740688323975\n",
            "Episode 355/500, Total Reward: -9923.12829208374\n",
            "Episode 356/500, Total Reward: -9927.114490509033\n",
            "Episode 357/500, Total Reward: -9783.64478302002\n",
            "Episode 358/500, Total Reward: 2975.2538146972656\n",
            "Episode 359/500, Total Reward: -9848.404479980469\n",
            "Episode 360/500, Total Reward: -9903.20394897461\n",
            "Episode 361/500, Total Reward: -9819.130962371826\n",
            "Episode 362/500, Total Reward: 674.9576148986816\n",
            "Episode 363/500, Total Reward: -9766.626251220703\n",
            "Episode 364/500, Total Reward: 792.8633499145508\n",
            "Episode 365/500, Total Reward: 1536.5204391479492\n",
            "Episode 366/500, Total Reward: 3750.8871841430664\n",
            "Episode 367/500, Total Reward: 3625.6413536071777\n",
            "Episode 368/500, Total Reward: 1958.934326171875\n",
            "Episode 369/500, Total Reward: 4889.2008056640625\n",
            "Episode 370/500, Total Reward: -1408.1745681762695\n",
            "Episode 371/500, Total Reward: 8800.832122802734\n",
            "Episode 372/500, Total Reward: 1649.9145126342773\n",
            "Episode 373/500, Total Reward: -1255.2817916870117\n",
            "Episode 374/500, Total Reward: 2138.3118438720703\n",
            "Episode 375/500, Total Reward: -568.5891494750977\n",
            "Episode 376/500, Total Reward: 1560.7274894714355\n",
            "Episode 377/500, Total Reward: 4128.92590713501\n",
            "Episode 378/500, Total Reward: 45.07178497314453\n",
            "Episode 379/500, Total Reward: -9917.57039642334\n",
            "Episode 380/500, Total Reward: 564.0653839111328\n",
            "Episode 381/500, Total Reward: -230.3051300048828\n",
            "Episode 382/500, Total Reward: 914.4572677612305\n",
            "Episode 383/500, Total Reward: -96.59626770019531\n",
            "Episode 384/500, Total Reward: 2837.6335983276367\n",
            "Episode 385/500, Total Reward: 3019.2389373779297\n",
            "Episode 386/500, Total Reward: -9767.885749816895\n",
            "Episode 387/500, Total Reward: -848.0610275268555\n",
            "Episode 388/500, Total Reward: -9843.472541809082\n",
            "Episode 389/500, Total Reward: 479.8271484375\n",
            "Episode 390/500, Total Reward: 101.82929229736328\n",
            "Episode 391/500, Total Reward: 422.60636138916016\n",
            "Episode 392/500, Total Reward: 689.1842651367188\n",
            "Episode 393/500, Total Reward: -9875.776016235352\n",
            "Episode 394/500, Total Reward: 716.1932525634766\n",
            "Episode 395/500, Total Reward: 3075.435691833496\n",
            "Episode 396/500, Total Reward: 3498.7257080078125\n",
            "Episode 397/500, Total Reward: -9912.292976379395\n",
            "Episode 398/500, Total Reward: 4459.787055969238\n",
            "Episode 399/500, Total Reward: -9959.673141479492\n",
            "Episode 400/500, Total Reward: -783.0799026489258\n",
            "Episode 401/500, Total Reward: 368.17573165893555\n",
            "Episode 402/500, Total Reward: -9938.03634262085\n",
            "Episode 403/500, Total Reward: 879.697509765625\n",
            "Episode 404/500, Total Reward: -247.13257598876953\n",
            "Episode 405/500, Total Reward: 324.2253952026367\n",
            "Episode 406/500, Total Reward: -2098.2723999023438\n",
            "Episode 407/500, Total Reward: -431.4260559082031\n",
            "Episode 408/500, Total Reward: 8744.992698669434\n",
            "Episode 409/500, Total Reward: -9990.980117797852\n",
            "Episode 410/500, Total Reward: -985.2370758056641\n",
            "Episode 411/500, Total Reward: -1233.3380432128906\n",
            "Episode 412/500, Total Reward: 1318.4508895874023\n",
            "Episode 413/500, Total Reward: 543.1869163513184\n",
            "Episode 414/500, Total Reward: -9938.843673706055\n",
            "Episode 415/500, Total Reward: 258.30473709106445\n",
            "Episode 416/500, Total Reward: -9886.019187927246\n",
            "Episode 417/500, Total Reward: 2078.296920776367\n",
            "Episode 418/500, Total Reward: 158.31795120239258\n",
            "Episode 419/500, Total Reward: -9936.294689178467\n",
            "Episode 420/500, Total Reward: -518.3722457885742\n",
            "Episode 421/500, Total Reward: -1032.9528350830078\n",
            "Episode 422/500, Total Reward: 351.32830810546875\n",
            "Episode 423/500, Total Reward: -960.934684753418\n",
            "Episode 424/500, Total Reward: -9997.755031585693\n",
            "Episode 425/500, Total Reward: -673.6351928710938\n",
            "Episode 426/500, Total Reward: 1127.2660064697266\n",
            "Episode 427/500, Total Reward: -11.515811920166016\n",
            "Episode 428/500, Total Reward: -9933.361473083496\n",
            "Episode 429/500, Total Reward: 1404.4542922973633\n",
            "Episode 430/500, Total Reward: -9980.358612060547\n",
            "Episode 431/500, Total Reward: -9795.628841400146\n",
            "Episode 432/500, Total Reward: -157.5419044494629\n",
            "Episode 433/500, Total Reward: -9930.129539489746\n",
            "Episode 434/500, Total Reward: -9932.073211669922\n",
            "Episode 435/500, Total Reward: -9847.362686157227\n",
            "Episode 436/500, Total Reward: -9839.970848083496\n",
            "Episode 437/500, Total Reward: 636.2625274658203\n",
            "Episode 438/500, Total Reward: -9928.115119934082\n",
            "Episode 439/500, Total Reward: -9919.95315170288\n",
            "Episode 440/500, Total Reward: -9828.075119018555\n",
            "Episode 441/500, Total Reward: -9754.637184143066\n",
            "Episode 442/500, Total Reward: -9814.148849487305\n",
            "Episode 443/500, Total Reward: -9930.564109802246\n",
            "Episode 444/500, Total Reward: 1260.5896072387695\n",
            "Episode 445/500, Total Reward: -9932.207382202148\n",
            "Episode 446/500, Total Reward: -9930.90869140625\n",
            "Episode 447/500, Total Reward: -600.1504135131836\n",
            "Episode 448/500, Total Reward: 153.04136657714844\n",
            "Episode 449/500, Total Reward: -9878.4086227417\n",
            "Episode 450/500, Total Reward: -421.30843353271484\n",
            "Episode 451/500, Total Reward: -9995.011825561523\n",
            "Episode 452/500, Total Reward: 3125.177848815918\n",
            "Episode 453/500, Total Reward: -9995.710502624512\n",
            "Episode 454/500, Total Reward: 2660.937126159668\n",
            "Episode 455/500, Total Reward: -9844.500190734863\n",
            "Episode 456/500, Total Reward: -9929.61703491211\n",
            "Episode 457/500, Total Reward: 1083.7413635253906\n",
            "Episode 458/500, Total Reward: -9996.059120178223\n",
            "Episode 459/500, Total Reward: 1399.6661834716797\n",
            "Episode 460/500, Total Reward: -9988.04825592041\n",
            "Episode 461/500, Total Reward: 274.77646255493164\n",
            "Episode 462/500, Total Reward: -9984.650199890137\n",
            "Episode 463/500, Total Reward: -9760.029525756836\n",
            "Episode 464/500, Total Reward: -9976.463813781738\n",
            "Episode 465/500, Total Reward: 6663.3481369018555\n",
            "Episode 466/500, Total Reward: -9894.450996398926\n",
            "Episode 467/500, Total Reward: -9817.873649597168\n",
            "Episode 468/500, Total Reward: -585.8213119506836\n",
            "Episode 469/500, Total Reward: 106.10782623291016\n",
            "Episode 470/500, Total Reward: 2659.7454833984375\n",
            "Episode 471/500, Total Reward: 877.0045280456543\n",
            "Episode 472/500, Total Reward: -9959.85945892334\n",
            "Episode 473/500, Total Reward: -9988.857425689697\n",
            "Episode 474/500, Total Reward: -9799.927467346191\n",
            "Episode 475/500, Total Reward: 2558.7010040283203\n",
            "Episode 476/500, Total Reward: -9934.236801147461\n",
            "Episode 477/500, Total Reward: -9969.409336090088\n",
            "Episode 478/500, Total Reward: -9928.754787445068\n",
            "Episode 479/500, Total Reward: 72.33297729492188\n",
            "Episode 480/500, Total Reward: 16224.347961425781\n",
            "Episode 481/500, Total Reward: -1234.4441986083984\n",
            "Episode 482/500, Total Reward: -9928.361068725586\n",
            "Episode 483/500, Total Reward: -9860.044429779053\n",
            "Episode 484/500, Total Reward: -9777.15909576416\n",
            "Episode 485/500, Total Reward: 1569.6619415283203\n",
            "Episode 486/500, Total Reward: -9859.605052947998\n",
            "Episode 487/500, Total Reward: -9805.119735717773\n",
            "Episode 488/500, Total Reward: 7306.051719665527\n",
            "Episode 489/500, Total Reward: -9945.966464996338\n",
            "Episode 490/500, Total Reward: -2693.776725769043\n",
            "Episode 491/500, Total Reward: 4792.654235839844\n",
            "Episode 492/500, Total Reward: -9868.603080749512\n",
            "Episode 493/500, Total Reward: -9773.231769561768\n",
            "Episode 494/500, Total Reward: -9744.241439819336\n",
            "Episode 495/500, Total Reward: 6687.057807922363\n",
            "Episode 496/500, Total Reward: -9988.489784240723\n",
            "Episode 497/500, Total Reward: -9867.970886230469\n",
            "Episode 498/500, Total Reward: 1306.6695709228516\n",
            "Episode 499/500, Total Reward: 12271.836479187012\n",
            "Episode 500/500, Total Reward: -9992.152648925781\n",
            "Training Complete!\n"
          ]
        }
      ]
    },
    {
      "cell_type": "markdown",
      "source": [
        "Here, we trained the AI Trading Agent using Deep Q-Learning, simulating 500 trading sessions where the agent learned from experience. It leveraged Exploration & Exploitation, initially taking random actions before making more informed decisions as training progressed.\n",
        "\n",
        "Experience Replay is used to store past experiences, allowing the neural network to learn through batch training. Throughout the process, we tracked rewards to measure the agent’s performance improvements over time."
      ],
      "metadata": {
        "id": "GBgK2vU7oSZq"
      }
    },
    {
      "cell_type": "markdown",
      "source": [
        "**TESTING AGENT ON NEW MARKET DATA**"
      ],
      "metadata": {
        "id": "3g5hUEOzoVEW"
      }
    },
    {
      "cell_type": "code",
      "source": [
        "# create a fresh environment instance for testing\n",
        "test_env = TradingEnvironment(data)\n",
        "state = test_env.reset()\n",
        "done = False\n",
        "\n",
        "# simulate a trading session using the trained agent\n",
        "while not done:\n",
        "    # always choose the best action (exploitation)\n",
        "    action = agent.act(state)\n",
        "    next_state, reward, done, _ = test_env.step(action)\n",
        "    state = next_state if next_state is not None else state\n",
        "\n",
        "final_balance = test_env.balance\n",
        "profit = final_balance - test_env.initial_balance\n",
        "print(f\"Final Balance after testing: ${final_balance:.2f}\")\n",
        "print(f\"Total Profit: ${profit:.2f}\")"
      ],
      "metadata": {
        "colab": {
          "base_uri": "https://localhost:8080/"
        },
        "id": "nDwjdwCqmJ73",
        "outputId": "ef2d0cc5-a521-4b17-e112-1bb22a35b997"
      },
      "execution_count": 10,
      "outputs": [
        {
          "output_type": "stream",
          "name": "stderr",
          "text": [
            "<ipython-input-5-3915787d8dfc>:4: FutureWarning: Calling float on a single element Series is deprecated and will raise a TypeError in the future. Use float(ser.iloc[0]) instead\n",
            "  float(data.loc[index, 'Close']),\n",
            "<ipython-input-5-3915787d8dfc>:5: FutureWarning: Calling float on a single element Series is deprecated and will raise a TypeError in the future. Use float(ser.iloc[0]) instead\n",
            "  float(data.loc[index, 'SMA_5']),\n",
            "<ipython-input-5-3915787d8dfc>:6: FutureWarning: Calling float on a single element Series is deprecated and will raise a TypeError in the future. Use float(ser.iloc[0]) instead\n",
            "  float(data.loc[index, 'SMA_20']),\n",
            "<ipython-input-5-3915787d8dfc>:7: FutureWarning: Calling float on a single element Series is deprecated and will raise a TypeError in the future. Use float(ser.iloc[0]) instead\n",
            "  float(data.loc[index, 'Returns'])\n",
            "<ipython-input-6-71f231bc395a>:17: FutureWarning: Calling float on a single element Series is deprecated and will raise a TypeError in the future. Use float(ser.iloc[0]) instead\n",
            "  price = float(self.data.loc[self.index, 'Close'])\n"
          ]
        },
        {
          "output_type": "stream",
          "name": "stdout",
          "text": [
            "Final Balance after testing: $123.90\n",
            "Total Profit: $-9876.10\n"
          ]
        }
      ]
    },
    {
      "cell_type": "markdown",
      "source": [
        "The agent started with $10,000 and ended with $123.90. loss = $9876.10, meaning the agent made a massive negative return :(."
      ],
      "metadata": {
        "id": "FOan43hRo3nF"
      }
    }
  ]
}